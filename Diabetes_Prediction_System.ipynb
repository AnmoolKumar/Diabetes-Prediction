{
  "cells": [
    {
      "cell_type": "code",
      "execution_count": null,
      "metadata": {
        "id": "-Vy54unW-oiI"
      },
      "outputs": [],
      "source": [
        "import numpy as np\n",
        "import pandas as pd\n",
        "from sklearn.model_selection import train_test_split\n",
        "from sklearn import svm\n",
        "from sklearn.metrics import accuracy_score "
      ]
    },
    {
      "cell_type": "markdown",
      "metadata": {
        "id": "rZI1OQ8LAiRh"
      },
      "source": [
        "Data Collection and Analysis\n",
        "\n",
        "PIMA Diabetes Dataset"
      ]
    },
    {
      "cell_type": "code",
      "execution_count": null,
      "metadata": {
        "id": "grhkrhCDArE5"
      },
      "outputs": [],
      "source": [
        "# loading the dataset to pandas dataframe\n",
        "db_ds = pd.read_csv('C:/Users/hp/Desktop/sem 5/mini project sem 5/diabetes.csv.xls')"
      ]
    },
    {
      "cell_type": "code",
      "execution_count": null,
      "metadata": {
        "colab": {
          "base_uri": "https://localhost:8080/"
        },
        "id": "8Ne4EK30ChFC",
        "outputId": "5b514348-21e8-483e-c260-74f7009d7811"
      },
      "outputs": [],
      "source": [
        "# number of rows and cols in this dataset\n",
        "db_ds.shape"
      ]
    },
    {
      "cell_type": "code",
      "execution_count": null,
      "metadata": {
        "colab": {
          "base_uri": "https://localhost:8080/",
          "height": 364
        },
        "id": "JSazNGZSEIRD",
        "outputId": "577cb53e-b851-40b6-a6fb-eb90b60ea717"
      },
      "outputs": [],
      "source": [
        "# getting the statistical measures of data\n",
        "db_ds.describe()"
      ]
    },
    {
      "cell_type": "code",
      "execution_count": null,
      "metadata": {
        "colab": {
          "base_uri": "https://localhost:8080/"
        },
        "id": "ic09_Hm8FVYo",
        "outputId": "6449abe4-1b8d-4404-f463-8e5042d93ad8"
      },
      "outputs": [],
      "source": [
        "db_ds['Outcome'].value_counts()"
      ]
    },
    {
      "cell_type": "markdown",
      "metadata": {
        "id": "JYxZ788_FeEk"
      },
      "source": [
        "0 --> Non-Diabetic\n",
        "1 --> Diabetic"
      ]
    },
    {
      "cell_type": "code",
      "execution_count": null,
      "metadata": {
        "colab": {
          "base_uri": "https://localhost:8080/",
          "height": 207
        },
        "id": "uj5uP5WTF17O",
        "outputId": "265da2fe-d095-46fd-bd80-efab47ba0c2b"
      },
      "outputs": [],
      "source": [
        "db_ds.groupby('Outcome').mean()"
      ]
    },
    {
      "cell_type": "code",
      "execution_count": null,
      "metadata": {
        "id": "-i5CDLTMF__7"
      },
      "outputs": [],
      "source": [
        "# seperating data and labels\n",
        "x = db_ds.drop(columns = 'Outcome',  axis=1)\n",
        "y = db_ds['Outcome']"
      ]
    },
    {
      "cell_type": "code",
      "execution_count": null,
      "metadata": {
        "colab": {
          "base_uri": "https://localhost:8080/"
        },
        "id": "RMkME3deHHrW",
        "outputId": "9513cb28-885b-435a-939a-3ab31afaec23"
      },
      "outputs": [],
      "source": [
        "print(x)"
      ]
    },
    {
      "cell_type": "code",
      "execution_count": null,
      "metadata": {
        "colab": {
          "base_uri": "https://localhost:8080/"
        },
        "id": "02A3MqqIHJiK",
        "outputId": "2119e920-a8a9-49e9-f134-ce2d387bce8d"
      },
      "outputs": [],
      "source": [
        "print(y)"
      ]
    },
    {
      "cell_type": "code",
      "execution_count": null,
      "metadata": {
        "colab": {
          "base_uri": "https://localhost:8080/"
        },
        "id": "LLEe-txBIs82",
        "outputId": "09ae0dcd-a039-45c1-807e-9512e8c7a943"
      },
      "outputs": [],
      "source": [
        "print(x)"
      ]
    },
    {
      "cell_type": "code",
      "execution_count": null,
      "metadata": {
        "colab": {
          "base_uri": "https://localhost:8080/"
        },
        "id": "rP5BJrYII-BG",
        "outputId": "3b21910f-c55b-4d47-81d5-ffc5f77b93d9"
      },
      "outputs": [],
      "source": [
        "print(y)"
      ]
    },
    {
      "cell_type": "markdown",
      "metadata": {
        "id": "pjYyQ-vjJMbG"
      },
      "source": [
        "Train Test Split"
      ]
    },
    {
      "cell_type": "code",
      "execution_count": null,
      "metadata": {
        "id": "xeTq8d17JO_j"
      },
      "outputs": [],
      "source": [
        "x_train, x_test, y_train, y_test = train_test_split(x, y, test_size = 0.2, stratify = y, random_state=2)"
      ]
    },
    {
      "cell_type": "code",
      "execution_count": null,
      "metadata": {
        "colab": {
          "base_uri": "https://localhost:8080/"
        },
        "id": "9UrY2ZWYNuek",
        "outputId": "cdcd4d8a-81b9-4eb0-d5bd-e450efd04a1e"
      },
      "outputs": [],
      "source": [
        "print(x.shape, x_train.shape, x_test.shape)"
      ]
    },
    {
      "cell_type": "markdown",
      "metadata": {
        "id": "HifPUMEPOFs2"
      },
      "source": [
        "Training the Model"
      ]
    },
    {
      "cell_type": "code",
      "execution_count": null,
      "metadata": {
        "id": "Yk5HPAojOLjs"
      },
      "outputs": [],
      "source": [
        "classifier = svm.SVC(kernel = 'linear')"
      ]
    },
    {
      "cell_type": "code",
      "execution_count": null,
      "metadata": {
        "colab": {
          "base_uri": "https://localhost:8080/"
        },
        "id": "6ld_Z-dVOmMG",
        "outputId": "9bc6f3a6-70e0-4b67-b692-a166c77791a9"
      },
      "outputs": [],
      "source": [
        "# training the support vector machine classifier\n",
        "classifier.fit(x_train, y_train)"
      ]
    },
    {
      "cell_type": "code",
      "execution_count": null,
      "metadata": {
        "id": "IsloPwn-PVdP"
      },
      "outputs": [],
      "source": [
        "# accuracy on training data\n",
        "x_test_predict = classifier.predict(x_train)\n",
        "train_data_accuracy = accuracy_score(x_test_predict, y_train)"
      ]
    },
    {
      "cell_type": "code",
      "execution_count": null,
      "metadata": {
        "colab": {
          "base_uri": "https://localhost:8080/"
        },
        "id": "icOQy4NCQwOn",
        "outputId": "952a5934-01f5-448f-f779-55ed3e021188"
      },
      "outputs": [],
      "source": [
        "print('Accuracy score of train data : ', train_data_accuracy)"
      ]
    },
    {
      "cell_type": "code",
      "execution_count": null,
      "metadata": {
        "id": "TDO4swBcQ3LM"
      },
      "outputs": [],
      "source": [
        "x_test_predict = classifier.predict(x_test)\n",
        "test_data_accuracy = accuracy_score(x_test_predict, y_test)"
      ]
    },
    {
      "cell_type": "code",
      "execution_count": null,
      "metadata": {
        "colab": {
          "base_uri": "https://localhost:8080/"
        },
        "id": "egmE1hiLRHRZ",
        "outputId": "03fecd20-9228-4152-b78c-df18ea22eb52"
      },
      "outputs": [],
      "source": [
        "print('Accuracy score of test data : ', test_data_accuracy)"
      ]
    },
    {
      "cell_type": "markdown",
      "metadata": {
        "id": "Xn-XNkM4RRW2"
      },
      "source": [
        "Prediction System"
      ]
    },
    {
      "cell_type": "code",
      "execution_count": null,
      "metadata": {
        "colab": {
          "base_uri": "https://localhost:8080/"
        },
        "id": "7lXRlbAoRMXf",
        "outputId": "8e944d0b-850d-4ba4-a50d-1345949f0ebd"
      },
      "outputs": [],
      "source": [
        "input = (0,125,180,0,10,37.6,0.191,30)\n",
        "\n",
        "# change input to m=numpy array\n",
        "numpy_input = np.asarray(input)\n",
        "\n",
        "# reshape array for predicting 1 instance\n",
        "input_reshaped = numpy_input.reshape(1,-1)\n",
        "\n",
        "\n",
        "prediction = classifier.predict(input_reshaped)\n",
        "\n",
        "if(prediction[0] == 0):\n",
        "    print('The person is non diabetic');\n",
        "else:\n",
        "    print('The person is diabetic');\n"
      ]
    },
    {
      "cell_type": "markdown",
      "metadata": {
        "id": "QTyQwKM8Zyar"
      },
      "source": [
        "Save trained model"
      ]
    },
    {
      "cell_type": "code",
      "execution_count": null,
      "metadata": {
        "id": "PBZV0NQaUmb1"
      },
      "outputs": [],
      "source": [
        "import pickle as pi"
      ]
    },
    {
      "cell_type": "code",
      "execution_count": null,
      "metadata": {
        "id": "TBgMHxntZ58e"
      },
      "outputs": [],
      "source": [
        "filename = 'trained_model.sav'\n",
        "pi.dump(classifier, open(filename, 'wb'))"
      ]
    },
    {
      "cell_type": "code",
      "execution_count": null,
      "metadata": {
        "id": "z4FuGkxkaZwg"
      },
      "outputs": [],
      "source": [
        "# loading the saved model\n",
        "loaded_model = pi.load(open('trained_model.sav', 'rb'))"
      ]
    },
    {
      "cell_type": "code",
      "execution_count": null,
      "metadata": {
        "colab": {
          "base_uri": "https://localhost:8080/"
        },
        "id": "Vd35a0g1a_iU",
        "outputId": "5ed6a340-e315-43f3-f250-36f43c30aedd"
      },
      "outputs": [],
      "source": [
        "input = (0,125,180,0,10,37.6,0.191,30)\n",
        "\n",
        "# change input to m=numpy array\n",
        "numpy_input = np.asarray(input)\n",
        "\n",
        "# reshape array for predicting 1 instance\n",
        "input_reshaped = numpy_input.reshape(1,-1)\n",
        "\n",
        "#standardize input\n",
        "#std_input = scaler.transform(input_reshaped)\n",
        "#print(std_input)\n",
        "\n",
        "prediction = loaded_model.predict(input_reshaped)\n",
        "print(prediction)\n",
        "\n",
        "if(prediction[0] == 0):\n",
        "    print('The person is non diabetic');\n",
        "else:\n",
        "    print('The person is diabetic');"
      ]
    },
    {
      "cell_type": "code",
      "execution_count": null,
      "metadata": {
        "id": "OqyXaShybjyx"
      },
      "outputs": [],
      "source": []
    }
  ],
  "metadata": {
    "colab": {
      "provenance": [],
      "toc_visible": true
    },
    "kernelspec": {
      "display_name": "Python 3.10.5 64-bit",
      "language": "python",
      "name": "python3"
    },
    "language_info": {
      "name": "python",
      "version": "3.10.5"
    },
    "vscode": {
      "interpreter": {
        "hash": "63963b3f4c440940f0b94a3100916033a226cb4f45979123153792d60aa56d6a"
      }
    }
  },
  "nbformat": 4,
  "nbformat_minor": 0
}
